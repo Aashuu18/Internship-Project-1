{
  "cells": [
    {
      "cell_type": "markdown",
      "metadata": {
        "id": "pWRv1h4WMweb"
      },
      "source": [
        "# <center> Gold Price Prediction"
      ]
    },
    {
      "cell_type": "markdown",
      "metadata": {
        "id": "a4hicRRbMwes"
      },
      "source": [
        "## Import Libraries"
      ]
    },
    {
      "cell_type": "code",
      "execution_count": 1,
      "metadata": {
        "id": "wwHBaTvwMwev"
      },
      "outputs": [],
      "source": [
        "import numpy as np\n",
        "import pandas as pd\n",
        "import matplotlib.pyplot as plt\n",
        "import seaborn as sns\n",
        "from sklearn.model_selection import train_test_split\n",
        "from sklearn.ensemble import RandomForestRegressor\n",
        "from sklearn import metrics\n"
      ]
    },
    {
      "cell_type": "code",
      "source": [
        "gold_data=pd.read_csv('/content/gold_price.csv')"
      ],
      "metadata": {
        "id": "u2rZnhFYu_JQ"
      },
      "execution_count": 2,
      "outputs": []
    },
    {
      "cell_type": "markdown",
      "source": [
        "## Task 1: Initial Data Exploration"
      ],
      "metadata": {
        "id": "WjZYclUPqqnt"
      }
    },
    {
      "cell_type": "code",
      "source": [
        "gold_data.head()"
      ],
      "metadata": {
        "id": "xcPMdfdvvJli",
        "outputId": "1da2ec8b-42d2-479a-cf2f-1b3f3aa29a9e",
        "colab": {
          "base_uri": "https://localhost:8080/",
          "height": 206
        }
      },
      "execution_count": 3,
      "outputs": [
        {
          "output_type": "execute_result",
          "data": {
            "text/plain": [
              "         Date  USD (AM)  USD (PM)  GBP (AM)  GBP (PM)  EURO (AM)  EURO (PM)\n",
              "0  2001-01-02    272.80    271.10   183.026   181.617    288.677    287.334\n",
              "1  2001-01-03    269.00    267.15   178.916   177.390    281.823    281.655\n",
              "2  2001-01-04    268.75    267.10   178.869   178.352    282.538    282.049\n",
              "3  2001-01-05    268.00    267.40   178.488   178.148    280.775    280.882\n",
              "4  2001-01-08    268.60    268.30   178.769   178.664    282.410    282.481"
            ],
            "text/html": [
              "\n",
              "  <div id=\"df-13e1dd14-928b-4fcb-a7f8-45e6a83832bb\">\n",
              "    <div class=\"colab-df-container\">\n",
              "      <div>\n",
              "<style scoped>\n",
              "    .dataframe tbody tr th:only-of-type {\n",
              "        vertical-align: middle;\n",
              "    }\n",
              "\n",
              "    .dataframe tbody tr th {\n",
              "        vertical-align: top;\n",
              "    }\n",
              "\n",
              "    .dataframe thead th {\n",
              "        text-align: right;\n",
              "    }\n",
              "</style>\n",
              "<table border=\"1\" class=\"dataframe\">\n",
              "  <thead>\n",
              "    <tr style=\"text-align: right;\">\n",
              "      <th></th>\n",
              "      <th>Date</th>\n",
              "      <th>USD (AM)</th>\n",
              "      <th>USD (PM)</th>\n",
              "      <th>GBP (AM)</th>\n",
              "      <th>GBP (PM)</th>\n",
              "      <th>EURO (AM)</th>\n",
              "      <th>EURO (PM)</th>\n",
              "    </tr>\n",
              "  </thead>\n",
              "  <tbody>\n",
              "    <tr>\n",
              "      <th>0</th>\n",
              "      <td>2001-01-02</td>\n",
              "      <td>272.80</td>\n",
              "      <td>271.10</td>\n",
              "      <td>183.026</td>\n",
              "      <td>181.617</td>\n",
              "      <td>288.677</td>\n",
              "      <td>287.334</td>\n",
              "    </tr>\n",
              "    <tr>\n",
              "      <th>1</th>\n",
              "      <td>2001-01-03</td>\n",
              "      <td>269.00</td>\n",
              "      <td>267.15</td>\n",
              "      <td>178.916</td>\n",
              "      <td>177.390</td>\n",
              "      <td>281.823</td>\n",
              "      <td>281.655</td>\n",
              "    </tr>\n",
              "    <tr>\n",
              "      <th>2</th>\n",
              "      <td>2001-01-04</td>\n",
              "      <td>268.75</td>\n",
              "      <td>267.10</td>\n",
              "      <td>178.869</td>\n",
              "      <td>178.352</td>\n",
              "      <td>282.538</td>\n",
              "      <td>282.049</td>\n",
              "    </tr>\n",
              "    <tr>\n",
              "      <th>3</th>\n",
              "      <td>2001-01-05</td>\n",
              "      <td>268.00</td>\n",
              "      <td>267.40</td>\n",
              "      <td>178.488</td>\n",
              "      <td>178.148</td>\n",
              "      <td>280.775</td>\n",
              "      <td>280.882</td>\n",
              "    </tr>\n",
              "    <tr>\n",
              "      <th>4</th>\n",
              "      <td>2001-01-08</td>\n",
              "      <td>268.60</td>\n",
              "      <td>268.30</td>\n",
              "      <td>178.769</td>\n",
              "      <td>178.664</td>\n",
              "      <td>282.410</td>\n",
              "      <td>282.481</td>\n",
              "    </tr>\n",
              "  </tbody>\n",
              "</table>\n",
              "</div>\n",
              "      <button class=\"colab-df-convert\" onclick=\"convertToInteractive('df-13e1dd14-928b-4fcb-a7f8-45e6a83832bb')\"\n",
              "              title=\"Convert this dataframe to an interactive table.\"\n",
              "              style=\"display:none;\">\n",
              "        \n",
              "  <svg xmlns=\"http://www.w3.org/2000/svg\" height=\"24px\"viewBox=\"0 0 24 24\"\n",
              "       width=\"24px\">\n",
              "    <path d=\"M0 0h24v24H0V0z\" fill=\"none\"/>\n",
              "    <path d=\"M18.56 5.44l.94 2.06.94-2.06 2.06-.94-2.06-.94-.94-2.06-.94 2.06-2.06.94zm-11 1L8.5 8.5l.94-2.06 2.06-.94-2.06-.94L8.5 2.5l-.94 2.06-2.06.94zm10 10l.94 2.06.94-2.06 2.06-.94-2.06-.94-.94-2.06-.94 2.06-2.06.94z\"/><path d=\"M17.41 7.96l-1.37-1.37c-.4-.4-.92-.59-1.43-.59-.52 0-1.04.2-1.43.59L10.3 9.45l-7.72 7.72c-.78.78-.78 2.05 0 2.83L4 21.41c.39.39.9.59 1.41.59.51 0 1.02-.2 1.41-.59l7.78-7.78 2.81-2.81c.8-.78.8-2.07 0-2.86zM5.41 20L4 18.59l7.72-7.72 1.47 1.35L5.41 20z\"/>\n",
              "  </svg>\n",
              "      </button>\n",
              "      \n",
              "  <style>\n",
              "    .colab-df-container {\n",
              "      display:flex;\n",
              "      flex-wrap:wrap;\n",
              "      gap: 12px;\n",
              "    }\n",
              "\n",
              "    .colab-df-convert {\n",
              "      background-color: #E8F0FE;\n",
              "      border: none;\n",
              "      border-radius: 50%;\n",
              "      cursor: pointer;\n",
              "      display: none;\n",
              "      fill: #1967D2;\n",
              "      height: 32px;\n",
              "      padding: 0 0 0 0;\n",
              "      width: 32px;\n",
              "    }\n",
              "\n",
              "    .colab-df-convert:hover {\n",
              "      background-color: #E2EBFA;\n",
              "      box-shadow: 0px 1px 2px rgba(60, 64, 67, 0.3), 0px 1px 3px 1px rgba(60, 64, 67, 0.15);\n",
              "      fill: #174EA6;\n",
              "    }\n",
              "\n",
              "    [theme=dark] .colab-df-convert {\n",
              "      background-color: #3B4455;\n",
              "      fill: #D2E3FC;\n",
              "    }\n",
              "\n",
              "    [theme=dark] .colab-df-convert:hover {\n",
              "      background-color: #434B5C;\n",
              "      box-shadow: 0px 1px 3px 1px rgba(0, 0, 0, 0.15);\n",
              "      filter: drop-shadow(0px 1px 2px rgba(0, 0, 0, 0.3));\n",
              "      fill: #FFFFFF;\n",
              "    }\n",
              "  </style>\n",
              "\n",
              "      <script>\n",
              "        const buttonEl =\n",
              "          document.querySelector('#df-13e1dd14-928b-4fcb-a7f8-45e6a83832bb button.colab-df-convert');\n",
              "        buttonEl.style.display =\n",
              "          google.colab.kernel.accessAllowed ? 'block' : 'none';\n",
              "\n",
              "        async function convertToInteractive(key) {\n",
              "          const element = document.querySelector('#df-13e1dd14-928b-4fcb-a7f8-45e6a83832bb');\n",
              "          const dataTable =\n",
              "            await google.colab.kernel.invokeFunction('convertToInteractive',\n",
              "                                                     [key], {});\n",
              "          if (!dataTable) return;\n",
              "\n",
              "          const docLinkHtml = 'Like what you see? Visit the ' +\n",
              "            '<a target=\"_blank\" href=https://colab.research.google.com/notebooks/data_table.ipynb>data table notebook</a>'\n",
              "            + ' to learn more about interactive tables.';\n",
              "          element.innerHTML = '';\n",
              "          dataTable['output_type'] = 'display_data';\n",
              "          await google.colab.output.renderOutput(dataTable, element);\n",
              "          const docLink = document.createElement('div');\n",
              "          docLink.innerHTML = docLinkHtml;\n",
              "          element.appendChild(docLink);\n",
              "        }\n",
              "      </script>\n",
              "    </div>\n",
              "  </div>\n",
              "  "
            ]
          },
          "metadata": {},
          "execution_count": 3
        }
      ]
    },
    {
      "cell_type": "code",
      "source": [
        "gold_data.tail()"
      ],
      "metadata": {
        "id": "XmvFoYF6vMja",
        "outputId": "e88e45cd-16a0-4b1d-98cf-92ccede317ef",
        "colab": {
          "base_uri": "https://localhost:8080/",
          "height": 206
        }
      },
      "execution_count": 4,
      "outputs": [
        {
          "output_type": "execute_result",
          "data": {
            "text/plain": [
              "            Date  USD (AM)  USD (PM)  GBP (AM)  GBP (PM)  EURO (AM)  EURO (PM)\n",
              "4713  2019-08-27   1531.85   1532.95   1250.91   1247.51    1378.97    1380.88\n",
              "4714  2019-08-28   1541.75   1537.15   1263.31   1258.77    1389.89    1387.43\n",
              "4715  2019-08-29   1536.65   1540.20   1260.51   1262.96    1387.29    1392.03\n",
              "4716  2019-08-30   1526.55   1528.40   1253.14   1251.15    1382.75    1383.51\n",
              "4717  2019-09-02   1523.35   1525.95   1260.42   1265.01    1388.69    1391.51"
            ],
            "text/html": [
              "\n",
              "  <div id=\"df-e5e46dc4-b37a-4f3e-a0c4-c34ad01d97de\">\n",
              "    <div class=\"colab-df-container\">\n",
              "      <div>\n",
              "<style scoped>\n",
              "    .dataframe tbody tr th:only-of-type {\n",
              "        vertical-align: middle;\n",
              "    }\n",
              "\n",
              "    .dataframe tbody tr th {\n",
              "        vertical-align: top;\n",
              "    }\n",
              "\n",
              "    .dataframe thead th {\n",
              "        text-align: right;\n",
              "    }\n",
              "</style>\n",
              "<table border=\"1\" class=\"dataframe\">\n",
              "  <thead>\n",
              "    <tr style=\"text-align: right;\">\n",
              "      <th></th>\n",
              "      <th>Date</th>\n",
              "      <th>USD (AM)</th>\n",
              "      <th>USD (PM)</th>\n",
              "      <th>GBP (AM)</th>\n",
              "      <th>GBP (PM)</th>\n",
              "      <th>EURO (AM)</th>\n",
              "      <th>EURO (PM)</th>\n",
              "    </tr>\n",
              "  </thead>\n",
              "  <tbody>\n",
              "    <tr>\n",
              "      <th>4713</th>\n",
              "      <td>2019-08-27</td>\n",
              "      <td>1531.85</td>\n",
              "      <td>1532.95</td>\n",
              "      <td>1250.91</td>\n",
              "      <td>1247.51</td>\n",
              "      <td>1378.97</td>\n",
              "      <td>1380.88</td>\n",
              "    </tr>\n",
              "    <tr>\n",
              "      <th>4714</th>\n",
              "      <td>2019-08-28</td>\n",
              "      <td>1541.75</td>\n",
              "      <td>1537.15</td>\n",
              "      <td>1263.31</td>\n",
              "      <td>1258.77</td>\n",
              "      <td>1389.89</td>\n",
              "      <td>1387.43</td>\n",
              "    </tr>\n",
              "    <tr>\n",
              "      <th>4715</th>\n",
              "      <td>2019-08-29</td>\n",
              "      <td>1536.65</td>\n",
              "      <td>1540.20</td>\n",
              "      <td>1260.51</td>\n",
              "      <td>1262.96</td>\n",
              "      <td>1387.29</td>\n",
              "      <td>1392.03</td>\n",
              "    </tr>\n",
              "    <tr>\n",
              "      <th>4716</th>\n",
              "      <td>2019-08-30</td>\n",
              "      <td>1526.55</td>\n",
              "      <td>1528.40</td>\n",
              "      <td>1253.14</td>\n",
              "      <td>1251.15</td>\n",
              "      <td>1382.75</td>\n",
              "      <td>1383.51</td>\n",
              "    </tr>\n",
              "    <tr>\n",
              "      <th>4717</th>\n",
              "      <td>2019-09-02</td>\n",
              "      <td>1523.35</td>\n",
              "      <td>1525.95</td>\n",
              "      <td>1260.42</td>\n",
              "      <td>1265.01</td>\n",
              "      <td>1388.69</td>\n",
              "      <td>1391.51</td>\n",
              "    </tr>\n",
              "  </tbody>\n",
              "</table>\n",
              "</div>\n",
              "      <button class=\"colab-df-convert\" onclick=\"convertToInteractive('df-e5e46dc4-b37a-4f3e-a0c4-c34ad01d97de')\"\n",
              "              title=\"Convert this dataframe to an interactive table.\"\n",
              "              style=\"display:none;\">\n",
              "        \n",
              "  <svg xmlns=\"http://www.w3.org/2000/svg\" height=\"24px\"viewBox=\"0 0 24 24\"\n",
              "       width=\"24px\">\n",
              "    <path d=\"M0 0h24v24H0V0z\" fill=\"none\"/>\n",
              "    <path d=\"M18.56 5.44l.94 2.06.94-2.06 2.06-.94-2.06-.94-.94-2.06-.94 2.06-2.06.94zm-11 1L8.5 8.5l.94-2.06 2.06-.94-2.06-.94L8.5 2.5l-.94 2.06-2.06.94zm10 10l.94 2.06.94-2.06 2.06-.94-2.06-.94-.94-2.06-.94 2.06-2.06.94z\"/><path d=\"M17.41 7.96l-1.37-1.37c-.4-.4-.92-.59-1.43-.59-.52 0-1.04.2-1.43.59L10.3 9.45l-7.72 7.72c-.78.78-.78 2.05 0 2.83L4 21.41c.39.39.9.59 1.41.59.51 0 1.02-.2 1.41-.59l7.78-7.78 2.81-2.81c.8-.78.8-2.07 0-2.86zM5.41 20L4 18.59l7.72-7.72 1.47 1.35L5.41 20z\"/>\n",
              "  </svg>\n",
              "      </button>\n",
              "      \n",
              "  <style>\n",
              "    .colab-df-container {\n",
              "      display:flex;\n",
              "      flex-wrap:wrap;\n",
              "      gap: 12px;\n",
              "    }\n",
              "\n",
              "    .colab-df-convert {\n",
              "      background-color: #E8F0FE;\n",
              "      border: none;\n",
              "      border-radius: 50%;\n",
              "      cursor: pointer;\n",
              "      display: none;\n",
              "      fill: #1967D2;\n",
              "      height: 32px;\n",
              "      padding: 0 0 0 0;\n",
              "      width: 32px;\n",
              "    }\n",
              "\n",
              "    .colab-df-convert:hover {\n",
              "      background-color: #E2EBFA;\n",
              "      box-shadow: 0px 1px 2px rgba(60, 64, 67, 0.3), 0px 1px 3px 1px rgba(60, 64, 67, 0.15);\n",
              "      fill: #174EA6;\n",
              "    }\n",
              "\n",
              "    [theme=dark] .colab-df-convert {\n",
              "      background-color: #3B4455;\n",
              "      fill: #D2E3FC;\n",
              "    }\n",
              "\n",
              "    [theme=dark] .colab-df-convert:hover {\n",
              "      background-color: #434B5C;\n",
              "      box-shadow: 0px 1px 3px 1px rgba(0, 0, 0, 0.15);\n",
              "      filter: drop-shadow(0px 1px 2px rgba(0, 0, 0, 0.3));\n",
              "      fill: #FFFFFF;\n",
              "    }\n",
              "  </style>\n",
              "\n",
              "      <script>\n",
              "        const buttonEl =\n",
              "          document.querySelector('#df-e5e46dc4-b37a-4f3e-a0c4-c34ad01d97de button.colab-df-convert');\n",
              "        buttonEl.style.display =\n",
              "          google.colab.kernel.accessAllowed ? 'block' : 'none';\n",
              "\n",
              "        async function convertToInteractive(key) {\n",
              "          const element = document.querySelector('#df-e5e46dc4-b37a-4f3e-a0c4-c34ad01d97de');\n",
              "          const dataTable =\n",
              "            await google.colab.kernel.invokeFunction('convertToInteractive',\n",
              "                                                     [key], {});\n",
              "          if (!dataTable) return;\n",
              "\n",
              "          const docLinkHtml = 'Like what you see? Visit the ' +\n",
              "            '<a target=\"_blank\" href=https://colab.research.google.com/notebooks/data_table.ipynb>data table notebook</a>'\n",
              "            + ' to learn more about interactive tables.';\n",
              "          element.innerHTML = '';\n",
              "          dataTable['output_type'] = 'display_data';\n",
              "          await google.colab.output.renderOutput(dataTable, element);\n",
              "          const docLink = document.createElement('div');\n",
              "          docLink.innerHTML = docLinkHtml;\n",
              "          element.appendChild(docLink);\n",
              "        }\n",
              "      </script>\n",
              "    </div>\n",
              "  </div>\n",
              "  "
            ]
          },
          "metadata": {},
          "execution_count": 4
        }
      ]
    },
    {
      "cell_type": "code",
      "source": [
        "gold_data.shape"
      ],
      "metadata": {
        "id": "yvqhvNwuvSCq",
        "outputId": "94af67bf-0644-4e08-cb16-ed52d7981d74",
        "colab": {
          "base_uri": "https://localhost:8080/"
        }
      },
      "execution_count": 5,
      "outputs": [
        {
          "output_type": "execute_result",
          "data": {
            "text/plain": [
              "(4718, 7)"
            ]
          },
          "metadata": {},
          "execution_count": 5
        }
      ]
    },
    {
      "cell_type": "code",
      "source": [
        "gold_data.info()"
      ],
      "metadata": {
        "id": "R4wxWYMLvXod",
        "outputId": "be1104ad-efb6-4435-bf0c-4f1c9fe94c97",
        "colab": {
          "base_uri": "https://localhost:8080/"
        }
      },
      "execution_count": 6,
      "outputs": [
        {
          "output_type": "stream",
          "name": "stdout",
          "text": [
            "<class 'pandas.core.frame.DataFrame'>\n",
            "RangeIndex: 4718 entries, 0 to 4717\n",
            "Data columns (total 7 columns):\n",
            " #   Column     Non-Null Count  Dtype  \n",
            "---  ------     --------------  -----  \n",
            " 0   Date       4718 non-null   object \n",
            " 1   USD (AM)   4718 non-null   float64\n",
            " 2   USD (PM)   4682 non-null   float64\n",
            " 3   GBP (AM)   4718 non-null   float64\n",
            " 4   GBP (PM)   4682 non-null   float64\n",
            " 5   EURO (AM)  4718 non-null   float64\n",
            " 6   EURO (PM)  4682 non-null   float64\n",
            "dtypes: float64(6), object(1)\n",
            "memory usage: 258.1+ KB\n"
          ]
        }
      ]
    },
    {
      "cell_type": "code",
      "source": [
        "gold_data.isnull().sum()"
      ],
      "metadata": {
        "id": "09TkoTL1vc5K",
        "outputId": "1d41802e-574f-4d91-aaca-37c0b96dab41",
        "colab": {
          "base_uri": "https://localhost:8080/"
        }
      },
      "execution_count": 7,
      "outputs": [
        {
          "output_type": "execute_result",
          "data": {
            "text/plain": [
              "Date          0\n",
              "USD (AM)      0\n",
              "USD (PM)     36\n",
              "GBP (AM)      0\n",
              "GBP (PM)     36\n",
              "EURO (AM)     0\n",
              "EURO (PM)    36\n",
              "dtype: int64"
            ]
          },
          "metadata": {},
          "execution_count": 7
        }
      ]
    },
    {
      "cell_type": "code",
      "source": [
        "gold_data.describe()"
      ],
      "metadata": {
        "id": "HxlxIH2pvkQu",
        "outputId": "ef81e45b-c54a-41ba-f66f-a8cbefe6d8cc",
        "colab": {
          "base_uri": "https://localhost:8080/",
          "height": 300
        }
      },
      "execution_count": 8,
      "outputs": [
        {
          "output_type": "execute_result",
          "data": {
            "text/plain": [
              "          USD (AM)     USD (PM)     GBP (AM)     GBP (PM)    EURO (AM)  \\\n",
              "count  4718.000000  4682.000000  4718.000000  4682.000000  4718.000000   \n",
              "mean    959.990812   959.728684   625.068432   624.921846   773.892791   \n",
              "std     449.456217   449.487106   324.491391   324.544149   351.555806   \n",
              "min     256.700000   255.950000   176.572000   176.441000   276.711000   \n",
              "25%     449.112500   448.612500   244.576750   244.463500   361.393500   \n",
              "50%    1113.125000  1112.275000   717.145000   716.210500   874.354500   \n",
              "75%    1293.750000  1294.225000   939.065500   939.266500  1085.967750   \n",
              "max    1896.500000  1895.000000  1265.900000  1265.010000  1389.890000   \n",
              "\n",
              "         EURO (PM)  \n",
              "count  4682.000000  \n",
              "mean    773.843716  \n",
              "std     351.696708  \n",
              "min     277.667000  \n",
              "25%     361.338750  \n",
              "50%     875.141500  \n",
              "75%    1085.816250  \n",
              "max    1392.030000  "
            ],
            "text/html": [
              "\n",
              "  <div id=\"df-87d0209a-13c1-4530-8443-a98916c82b34\">\n",
              "    <div class=\"colab-df-container\">\n",
              "      <div>\n",
              "<style scoped>\n",
              "    .dataframe tbody tr th:only-of-type {\n",
              "        vertical-align: middle;\n",
              "    }\n",
              "\n",
              "    .dataframe tbody tr th {\n",
              "        vertical-align: top;\n",
              "    }\n",
              "\n",
              "    .dataframe thead th {\n",
              "        text-align: right;\n",
              "    }\n",
              "</style>\n",
              "<table border=\"1\" class=\"dataframe\">\n",
              "  <thead>\n",
              "    <tr style=\"text-align: right;\">\n",
              "      <th></th>\n",
              "      <th>USD (AM)</th>\n",
              "      <th>USD (PM)</th>\n",
              "      <th>GBP (AM)</th>\n",
              "      <th>GBP (PM)</th>\n",
              "      <th>EURO (AM)</th>\n",
              "      <th>EURO (PM)</th>\n",
              "    </tr>\n",
              "  </thead>\n",
              "  <tbody>\n",
              "    <tr>\n",
              "      <th>count</th>\n",
              "      <td>4718.000000</td>\n",
              "      <td>4682.000000</td>\n",
              "      <td>4718.000000</td>\n",
              "      <td>4682.000000</td>\n",
              "      <td>4718.000000</td>\n",
              "      <td>4682.000000</td>\n",
              "    </tr>\n",
              "    <tr>\n",
              "      <th>mean</th>\n",
              "      <td>959.990812</td>\n",
              "      <td>959.728684</td>\n",
              "      <td>625.068432</td>\n",
              "      <td>624.921846</td>\n",
              "      <td>773.892791</td>\n",
              "      <td>773.843716</td>\n",
              "    </tr>\n",
              "    <tr>\n",
              "      <th>std</th>\n",
              "      <td>449.456217</td>\n",
              "      <td>449.487106</td>\n",
              "      <td>324.491391</td>\n",
              "      <td>324.544149</td>\n",
              "      <td>351.555806</td>\n",
              "      <td>351.696708</td>\n",
              "    </tr>\n",
              "    <tr>\n",
              "      <th>min</th>\n",
              "      <td>256.700000</td>\n",
              "      <td>255.950000</td>\n",
              "      <td>176.572000</td>\n",
              "      <td>176.441000</td>\n",
              "      <td>276.711000</td>\n",
              "      <td>277.667000</td>\n",
              "    </tr>\n",
              "    <tr>\n",
              "      <th>25%</th>\n",
              "      <td>449.112500</td>\n",
              "      <td>448.612500</td>\n",
              "      <td>244.576750</td>\n",
              "      <td>244.463500</td>\n",
              "      <td>361.393500</td>\n",
              "      <td>361.338750</td>\n",
              "    </tr>\n",
              "    <tr>\n",
              "      <th>50%</th>\n",
              "      <td>1113.125000</td>\n",
              "      <td>1112.275000</td>\n",
              "      <td>717.145000</td>\n",
              "      <td>716.210500</td>\n",
              "      <td>874.354500</td>\n",
              "      <td>875.141500</td>\n",
              "    </tr>\n",
              "    <tr>\n",
              "      <th>75%</th>\n",
              "      <td>1293.750000</td>\n",
              "      <td>1294.225000</td>\n",
              "      <td>939.065500</td>\n",
              "      <td>939.266500</td>\n",
              "      <td>1085.967750</td>\n",
              "      <td>1085.816250</td>\n",
              "    </tr>\n",
              "    <tr>\n",
              "      <th>max</th>\n",
              "      <td>1896.500000</td>\n",
              "      <td>1895.000000</td>\n",
              "      <td>1265.900000</td>\n",
              "      <td>1265.010000</td>\n",
              "      <td>1389.890000</td>\n",
              "      <td>1392.030000</td>\n",
              "    </tr>\n",
              "  </tbody>\n",
              "</table>\n",
              "</div>\n",
              "      <button class=\"colab-df-convert\" onclick=\"convertToInteractive('df-87d0209a-13c1-4530-8443-a98916c82b34')\"\n",
              "              title=\"Convert this dataframe to an interactive table.\"\n",
              "              style=\"display:none;\">\n",
              "        \n",
              "  <svg xmlns=\"http://www.w3.org/2000/svg\" height=\"24px\"viewBox=\"0 0 24 24\"\n",
              "       width=\"24px\">\n",
              "    <path d=\"M0 0h24v24H0V0z\" fill=\"none\"/>\n",
              "    <path d=\"M18.56 5.44l.94 2.06.94-2.06 2.06-.94-2.06-.94-.94-2.06-.94 2.06-2.06.94zm-11 1L8.5 8.5l.94-2.06 2.06-.94-2.06-.94L8.5 2.5l-.94 2.06-2.06.94zm10 10l.94 2.06.94-2.06 2.06-.94-2.06-.94-.94-2.06-.94 2.06-2.06.94z\"/><path d=\"M17.41 7.96l-1.37-1.37c-.4-.4-.92-.59-1.43-.59-.52 0-1.04.2-1.43.59L10.3 9.45l-7.72 7.72c-.78.78-.78 2.05 0 2.83L4 21.41c.39.39.9.59 1.41.59.51 0 1.02-.2 1.41-.59l7.78-7.78 2.81-2.81c.8-.78.8-2.07 0-2.86zM5.41 20L4 18.59l7.72-7.72 1.47 1.35L5.41 20z\"/>\n",
              "  </svg>\n",
              "      </button>\n",
              "      \n",
              "  <style>\n",
              "    .colab-df-container {\n",
              "      display:flex;\n",
              "      flex-wrap:wrap;\n",
              "      gap: 12px;\n",
              "    }\n",
              "\n",
              "    .colab-df-convert {\n",
              "      background-color: #E8F0FE;\n",
              "      border: none;\n",
              "      border-radius: 50%;\n",
              "      cursor: pointer;\n",
              "      display: none;\n",
              "      fill: #1967D2;\n",
              "      height: 32px;\n",
              "      padding: 0 0 0 0;\n",
              "      width: 32px;\n",
              "    }\n",
              "\n",
              "    .colab-df-convert:hover {\n",
              "      background-color: #E2EBFA;\n",
              "      box-shadow: 0px 1px 2px rgba(60, 64, 67, 0.3), 0px 1px 3px 1px rgba(60, 64, 67, 0.15);\n",
              "      fill: #174EA6;\n",
              "    }\n",
              "\n",
              "    [theme=dark] .colab-df-convert {\n",
              "      background-color: #3B4455;\n",
              "      fill: #D2E3FC;\n",
              "    }\n",
              "\n",
              "    [theme=dark] .colab-df-convert:hover {\n",
              "      background-color: #434B5C;\n",
              "      box-shadow: 0px 1px 3px 1px rgba(0, 0, 0, 0.15);\n",
              "      filter: drop-shadow(0px 1px 2px rgba(0, 0, 0, 0.3));\n",
              "      fill: #FFFFFF;\n",
              "    }\n",
              "  </style>\n",
              "\n",
              "      <script>\n",
              "        const buttonEl =\n",
              "          document.querySelector('#df-87d0209a-13c1-4530-8443-a98916c82b34 button.colab-df-convert');\n",
              "        buttonEl.style.display =\n",
              "          google.colab.kernel.accessAllowed ? 'block' : 'none';\n",
              "\n",
              "        async function convertToInteractive(key) {\n",
              "          const element = document.querySelector('#df-87d0209a-13c1-4530-8443-a98916c82b34');\n",
              "          const dataTable =\n",
              "            await google.colab.kernel.invokeFunction('convertToInteractive',\n",
              "                                                     [key], {});\n",
              "          if (!dataTable) return;\n",
              "\n",
              "          const docLinkHtml = 'Like what you see? Visit the ' +\n",
              "            '<a target=\"_blank\" href=https://colab.research.google.com/notebooks/data_table.ipynb>data table notebook</a>'\n",
              "            + ' to learn more about interactive tables.';\n",
              "          element.innerHTML = '';\n",
              "          dataTable['output_type'] = 'display_data';\n",
              "          await google.colab.output.renderOutput(dataTable, element);\n",
              "          const docLink = document.createElement('div');\n",
              "          docLink.innerHTML = docLinkHtml;\n",
              "          element.appendChild(docLink);\n",
              "        }\n",
              "      </script>\n",
              "    </div>\n",
              "  </div>\n",
              "  "
            ]
          },
          "metadata": {},
          "execution_count": 8
        }
      ]
    },
    {
      "cell_type": "code",
      "source": [
        "correlation = gold_data.corr()"
      ],
      "metadata": {
        "id": "cj0lh6nXvmxt"
      },
      "execution_count": 9,
      "outputs": []
    },
    {
      "cell_type": "code",
      "source": [
        "plt.figure (figsize=(8,8))"
      ],
      "metadata": {
        "id": "bTFspnYzvrHQ",
        "outputId": "5deb6401-9428-48ab-9250-4725050dc847",
        "colab": {
          "base_uri": "https://localhost:8080/",
          "height": 52
        }
      },
      "execution_count": 10,
      "outputs": [
        {
          "output_type": "execute_result",
          "data": {
            "text/plain": [
              "<Figure size 576x576 with 0 Axes>"
            ]
          },
          "metadata": {},
          "execution_count": 10
        },
        {
          "output_type": "display_data",
          "data": {
            "text/plain": [
              "<Figure size 576x576 with 0 Axes>"
            ]
          },
          "metadata": {}
        }
      ]
    },
    {
      "cell_type": "code",
      "source": [
        "sns.heatmap(correlation, cbar=True, square= True, fmt='.1f', annot=True, annot_kws={'size':8},cmap='Blues')"
      ],
      "metadata": {
        "id": "xSWwOekPvvcH",
        "outputId": "5671d095-4d64-4f2a-feb5-d5a1e722a3fe",
        "colab": {
          "base_uri": "https://localhost:8080/",
          "height": 331
        }
      },
      "execution_count": 11,
      "outputs": [
        {
          "output_type": "execute_result",
          "data": {
            "text/plain": [
              "<matplotlib.axes._subplots.AxesSubplot at 0x7f36002bb110>"
            ]
          },
          "metadata": {},
          "execution_count": 11
        },
        {
          "output_type": "display_data",
          "data": {
            "text/plain": [
              "<Figure size 432x288 with 2 Axes>"
            ],
            "image/png": "[encoded data removed]"
          },
          "metadata": {
            "needs_background": "light"
          }
        }
      ]
    },
    {
      "cell_type": "code",
      "source": [
        "print (correlation['USD (AM)'])"
      ],
      "metadata": {
        "id": "E064G5n908dG",
        "outputId": "84420bdb-e20e-4bc5-f910-b70ef11bdd58",
        "colab": {
          "base_uri": "https://localhost:8080/"
        }
      },
      "execution_count": 12,
      "outputs": [
        {
          "output_type": "stream",
          "name": "stdout",
          "text": [
            "USD (AM)     1.000000\n",
            "USD (PM)     0.999892\n",
            "GBP (AM)     0.970433\n",
            "GBP (PM)     0.970336\n",
            "EURO (AM)    0.971767\n",
            "EURO (PM)    0.971688\n",
            "Name: USD (AM), dtype: float64\n"
          ]
        }
      ]
    },
    {
      "cell_type": "code",
      "source": [
        "sns.distplot(gold_data['USD (AM)'],color='green')"
      ],
      "metadata": {
        "id": "2cJO0HWi1Nig",
        "outputId": "935f6962-50d9-4f42-d391-91a4bb264328",
        "colab": {
          "base_uri": "https://localhost:8080/",
          "height": 351
        }
      },
      "execution_count": 13,
      "outputs": [
        {
          "output_type": "stream",
          "name": "stderr",
          "text": [
            "/usr/local/lib/python3.7/dist-packages/seaborn/distributions.py:2619: FutureWarning: `distplot` is a deprecated function and will be removed in a future version. Please adapt your code to use either `displot` (a figure-level function with similar flexibility) or `histplot` (an axes-level function for histograms).\n",
            "  warnings.warn(msg, FutureWarning)\n"
          ]
        },
        {
          "output_type": "execute_result",
          "data": {
            "text/plain": [
              "<matplotlib.axes._subplots.AxesSubplot at 0x7f35fd4be8d0>"
            ]
          },
          "metadata": {},
          "execution_count": 13
        },
        {
          "output_type": "display_data",
          "data": {
            "text/plain": [
              "<Figure size 432x288 with 1 Axes>"
            ],
            "image/png": "[encoded data removed]"
          },
          "metadata": {
            "needs_background": "light"
          }
        }
      ]
    },
    {
      "cell_type": "markdown",
      "source": [
        "#**Data Preproccessing**"
      ],
      "metadata": {
        "id": "tNGEbTClmUZD"
      }
    },
    {
      "cell_type": "code",
      "source": [
        "X = gold_data.drop(['Date','USD (AM)'],axis=1)\n",
        "Y = gold_data['USD (AM)']"
      ],
      "metadata": {
        "id": "5sXZnXqK4c_K"
      },
      "execution_count": 14,
      "outputs": []
    },
    {
      "cell_type": "code",
      "source": [
        "X.isnull().sum()"
      ],
      "metadata": {
        "colab": {
          "base_uri": "https://localhost:8080/"
        },
        "id": "ufJ7dUN6ozNS",
        "outputId": "c37a18e6-f09d-4dc8-cdf2-46240ab5794e"
      },
      "execution_count": 29,
      "outputs": [
        {
          "output_type": "execute_result",
          "data": {
            "text/plain": [
              "USD (PM)     36\n",
              "GBP (AM)      0\n",
              "GBP (PM)     36\n",
              "EURO (AM)     0\n",
              "EURO (PM)    36\n",
              "dtype: int64"
            ]
          },
          "metadata": {},
          "execution_count": 29
        }
      ]
    },
    {
      "cell_type": "code",
      "source": [
        "# Removing null values from dataset\n",
        "X['USD (PM)'] = X['USD (PM)'].replace(np.NaN, X['USD (PM)'].mean())\n",
        "X['GBP (PM)'] = X['GBP (AM)'].replace(np.NaN, X['GBP (AM)'].mean())\n",
        "X['EURO (PM)'] = X['EURO (PM)'].replace(np.NaN, X['EURO (PM)'].mean())"
      ],
      "metadata": {
        "id": "UMiTFYmZpEzM"
      },
      "execution_count": 32,
      "outputs": []
    },
    {
      "cell_type": "code",
      "source": [
        "Y.isnull().sum()"
      ],
      "metadata": {
        "colab": {
          "base_uri": "https://localhost:8080/"
        },
        "id": "Voh24nS6pzRz",
        "outputId": "3b417eaa-bc95-4bc7-bc8b-402a98cb09fb"
      },
      "execution_count": 34,
      "outputs": [
        {
          "output_type": "execute_result",
          "data": {
            "text/plain": [
              "0"
            ]
          },
          "metadata": {},
          "execution_count": 34
        }
      ]
    },
    {
      "cell_type": "markdown",
      "source": [
        "## Task 2: Create Train & Test Sets"
      ],
      "metadata": {
        "id": "0lNfmL0sqyl-"
      }
    },
    {
      "cell_type": "code",
      "source": [
        "X_train, X_test, Y_train, Y_test = train_test_split(X, Y, test_size =0.4, random_state=2)"
      ],
      "metadata": {
        "id": "bFhC8Rj76ptO"
      },
      "execution_count": 35,
      "outputs": []
    },
    {
      "cell_type": "code",
      "source": [
        "regressor = RandomForestRegressor(n_estimators=100)"
      ],
      "metadata": {
        "id": "_zoAYOof-MDr"
      },
      "execution_count": 36,
      "outputs": []
    },
    {
      "cell_type": "code",
      "source": [
        "#training the model\n",
        "regressor.fit(X_train,Y_train)"
      ],
      "metadata": {
        "id": "EB7baPl9AYGQ",
        "outputId": "8662cd71-2b0f-4302-a76b-bb657db65154",
        "colab": {
          "base_uri": "https://localhost:8080/"
        }
      },
      "execution_count": 37,
      "outputs": [
        {
          "output_type": "execute_result",
          "data": {
            "text/plain": [
              "RandomForestRegressor()"
            ]
          },
          "metadata": {},
          "execution_count": 37
        }
      ]
    },
    {
      "cell_type": "markdown",
      "source": [
        "## Task 3: Develop Models & Predictions"
      ],
      "metadata": {
        "id": "EkdAJVGfH9md"
      }
    },
    {
      "cell_type": "code",
      "source": [
        "# prediction on Test Data\n",
        "test_data_prediction = regressor.predict(X_test)"
      ],
      "metadata": {
        "id": "wER9rIsPIBi8"
      },
      "execution_count": 38,
      "outputs": []
    },
    {
      "cell_type": "code",
      "source": [
        "print(test_data_prediction)"
      ],
      "metadata": {
        "id": "RlQW1l5LJm63",
        "outputId": "1366e610-381f-4105-ca7e-4d81c8b30313",
        "colab": {
          "base_uri": "https://localhost:8080/"
        }
      },
      "execution_count": 39,
      "outputs": [
        {
          "output_type": "stream",
          "name": "stdout",
          "text": [
            "[1200.576  1261.1785 1224.6905 ...  364.6695 1241.83    318.293 ]\n"
          ]
        }
      ]
    },
    {
      "cell_type": "code",
      "source": [
        "# R squared error\n",
        "error_score = metrics.r2_score(Y_test, test_data_prediction)\n",
        "print(\"R squared error : \", error_score)"
      ],
      "metadata": {
        "id": "Fda8VBBdF6Eu",
        "colab": {
          "base_uri": "https://localhost:8080/"
        },
        "outputId": "c00a12f1-171b-4e2d-de55-74a3a12328ef"
      },
      "execution_count": 40,
      "outputs": [
        {
          "output_type": "stream",
          "name": "stdout",
          "text": [
            "R squared error :  0.9982608609196774\n"
          ]
        }
      ]
    },
    {
      "cell_type": "markdown",
      "source": [
        "Compare the Actual Values and Predicted Values in a Plot"
      ],
      "metadata": {
        "id": "ofFDvGTlqbKX"
      }
    },
    {
      "cell_type": "code",
      "source": [
        "Y_test = list(Y_test)"
      ],
      "metadata": {
        "id": "QuTGWM0yqdI-"
      },
      "execution_count": 41,
      "outputs": []
    },
    {
      "cell_type": "code",
      "source": [
        "plt.plot(Y_test, color='blue', label = 'Actual Value')\n",
        "plt.plot(test_data_prediction, color='green', label='Predicted Value')\n",
        "plt.title('Actual Price vs Predicted Price')\n",
        "plt.xlabel('Number of values')\n",
        "plt.ylabel('GLD Price')\n",
        "plt.legend()\n",
        "plt.show()"
      ],
      "metadata": {
        "colab": {
          "base_uri": "https://localhost:8080/",
          "height": 295
        },
        "id": "FVv1Wd_AqfXU",
        "outputId": "eb3279fa-9e8e-4c61-e5e2-d7449272614c"
      },
      "execution_count": 43,
      "outputs": [
        {
          "output_type": "display_data",
          "data": {
            "text/plain": [
              "<Figure size 432x288 with 1 Axes>"
            ],
            "image/png": "[encoded data removed]"
          },
          "metadata": {
            "needs_background": "light"
          }
        }
      ]
    }
  ],
  "metadata": {
    "kernelspec": {
      "display_name": "Python 3",
      "language": "python",
      "name": "python3"
    },
    "language_info": {
      "codemirror_mode": {
        "name": "ipython",
        "version": 3
      },
      "file_extension": ".py",
      "mimetype": "text/x-python",
      "name": "python",
      "nbconvert_exporter": "python",
      "pygments_lexer": "ipython3",
      "version": "3.7.4"
    },
    "colab": {
      "name": "Project_4_Notebook.ipynb",
      "provenance": []
    }
  },
  "nbformat": 4,
  "nbformat_minor": 0
}